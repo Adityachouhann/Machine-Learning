{
 "cells": [
  {
   "cell_type": "code",
   "execution_count": null,
   "id": "99f63c46-8f49-4f79-a64a-d53222ca6873",
   "metadata": {},
   "outputs": [
    {
     "name": "stdout",
     "output_type": "stream",
     "text": [
      " * Serving Flask app '__main__'\n",
      " * Debug mode: off\n"
     ]
    },
    {
     "name": "stderr",
     "output_type": "stream",
     "text": [
      "WARNING: This is a development server. Do not use it in a production deployment. Use a production WSGI server instead.\n",
      " * Running on all addresses (0.0.0.0)\n",
      " * Running on http://127.0.0.1:8000\n",
      " * Running on http://192.168.43.17:8000\n",
      "Press CTRL+C to quit\n",
      "127.0.0.1 - - [01/Apr/2025 20:50:37] \"GET / HTTP/1.1\" 200 -\n",
      "127.0.0.1 - - [01/Apr/2025 20:51:23] \"GET /?YearsExperience HTTP/1.1\" 200 -\n",
      "[2025-04-01 20:51:37,501] ERROR in app: Exception on /predict [GET]\n",
      "Traceback (most recent call last):\n",
      "  File \"C:\\Users\\ajcho\\anaconda1\\Lib\\site-packages\\flask\\app.py\", line 1511, in wsgi_app\n",
      "    response = self.full_dispatch_request()\n",
      "               ^^^^^^^^^^^^^^^^^^^^^^^^^^^^\n",
      "  File \"C:\\Users\\ajcho\\anaconda1\\Lib\\site-packages\\flask\\app.py\", line 919, in full_dispatch_request\n",
      "    rv = self.handle_user_exception(e)\n",
      "         ^^^^^^^^^^^^^^^^^^^^^^^^^^^^^\n",
      "  File \"C:\\Users\\ajcho\\anaconda1\\Lib\\site-packages\\flask\\app.py\", line 917, in full_dispatch_request\n",
      "    rv = self.dispatch_request()\n",
      "         ^^^^^^^^^^^^^^^^^^^^^^^\n",
      "  File \"C:\\Users\\ajcho\\anaconda1\\Lib\\site-packages\\flask\\app.py\", line 902, in dispatch_request\n",
      "    return self.ensure_sync(self.view_functions[rule.endpoint])(**view_args)  # type: ignore[no-any-return]\n",
      "           ^^^^^^^^^^^^^^^^^^^^^^^^^^^^^^^^^^^^^^^^^^^^^^^^^^^^^^^^^^^^^^^^^\n",
      "  File \"C:\\Users\\ajcho\\AppData\\Local\\Temp\\ipykernel_24540\\1280179458.py\", line 27, in predict_note_authentication\n",
      "    list1.append(eval(val))\n",
      "                 ^^^^^^^^^\n",
      "  File \"<string>\", line 0\n",
      "    \n",
      "SyntaxError: invalid syntax\n",
      "127.0.0.1 - - [01/Apr/2025 20:51:37] \"GET /predict?YearsExperience HTTP/1.1\" 500 -\n",
      "C:\\Users\\ajcho\\anaconda1\\Lib\\site-packages\\sklearn\\utils\\validation.py:2739: UserWarning: X does not have valid feature names, but LinearRegression was fitted with feature names\n",
      "  warnings.warn(\n",
      "127.0.0.1 - - [01/Apr/2025 20:52:39] \"GET /predict?YearsExperience=100 HTTP/1.1\" 200 -\n"
     ]
    },
    {
     "name": "stdout",
     "output_type": "stream",
     "text": [
      "[967098.59833973]\n"
     ]
    },
    {
     "name": "stderr",
     "output_type": "stream",
     "text": [
      "C:\\Users\\ajcho\\anaconda1\\Lib\\site-packages\\sklearn\\utils\\validation.py:2739: UserWarning: X does not have valid feature names, but LinearRegression was fitted with feature names\n",
      "  warnings.warn(\n",
      "127.0.0.1 - - [01/Apr/2025 20:52:48] \"GET /predict?YearsExperience=10 HTTP/1.1\" 200 -\n"
     ]
    },
    {
     "name": "stdout",
     "output_type": "stream",
     "text": [
      "[119658.90910962]\n"
     ]
    }
   ],
   "source": [
    "import numpy as np \n",
    "import pandas as pd \n",
    "import pickle\n",
    "from flask import Flask,request\n",
    "\n",
    "app=Flask(__name__)\n",
    "\n",
    "pickle_in = open(r\"C:\\Users\\ajcho\\OneDrive\\Desktop\\full stack data science and AI\\BY SELF\\ML\\ML self\\linear_salary_model.pkl\",\"rb\")\n",
    "classifier=pickle.load(pickle_in)\n",
    "\n",
    "\n",
    "@app.route('/')      # decorator\n",
    "def welcome():\n",
    "    return \"Welcome All\"\n",
    "\n",
    "\n",
    "@app.route('/predict',methods=[\"Get\"])\n",
    "def predict_note_authentication():\n",
    "\n",
    "    \"\"\"\n",
    "    ['YearsExperience']\n",
    "   \"\"\"\n",
    "    input_cols=['YearsExperience']\n",
    "    list1=[]\n",
    "    for i in input_cols:\n",
    "        val=request.args.get(i)\n",
    "        list1.append(eval(val))\n",
    "\n",
    "\n",
    "    prediction=classifier.predict([list1])\n",
    "\n",
    "    #prediction=classifier.predict([[variance,skewness,curtosis,entropy]])\n",
    "    print(prediction)\n",
    "    return \"Hello The answer is\"+str(prediction)\n",
    "\n",
    "\n",
    "\n",
    "@app.route('/predict_file',methods=[\"POST\"])\n",
    "def predict_note_file():\n",
    "    df_test=pd.read_csv(request.files.get(\"file\"))  # whatever name you written here the same name will provide in Post man\n",
    "    prediction=classifier.predict(df_test)\n",
    "    return str(list(prediction))\n",
    "\n",
    "if __name__=='__main__':\n",
    "    app.run(host='0.0.0.0',port=8000)                    "
   ]
  },
  {
   "cell_type": "code",
   "execution_count": null,
   "id": "25d1519a-b4a4-4b9b-8089-f8b7a81c664a",
   "metadata": {},
   "outputs": [],
   "source": []
  }
 ],
 "metadata": {
  "kernelspec": {
   "display_name": "Python [conda env:anaconda1]",
   "language": "python",
   "name": "conda-env-anaconda1-py"
  },
  "language_info": {
   "codemirror_mode": {
    "name": "ipython",
    "version": 3
   },
   "file_extension": ".py",
   "mimetype": "text/x-python",
   "name": "python",
   "nbconvert_exporter": "python",
   "pygments_lexer": "ipython3",
   "version": "3.12.8"
  }
 },
 "nbformat": 4,
 "nbformat_minor": 5
}
